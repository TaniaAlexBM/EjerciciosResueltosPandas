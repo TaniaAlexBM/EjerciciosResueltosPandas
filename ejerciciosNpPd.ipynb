{
 "cells": [
  {
   "cell_type": "code",
   "metadata": {
    "tags": [],
    "cell_id": "00000-e1acc106-9753-4bb6-befb-8e0490725aaa",
    "deepnote_to_be_reexecuted": false,
    "source_hash": "8ad57f32",
    "execution_start": 1641965946965,
    "execution_millis": 42,
    "deepnote_cell_type": "code"
   },
   "source": "# Start writing code here...",
   "outputs": [],
   "execution_count": 1
  },
  {
   "cell_type": "markdown",
   "source": "# Ejercicios: Introducción a Pandas y Numpy\n\n### Revisión de ejercicios",
   "metadata": {
    "tags": [],
    "cell_id": "00001-8959e336-0b84-4414-96b2-d73f9987cad4",
    "deepnote_app_coordinates": {
     "x": 0,
     "y": 0,
     "w": 19,
     "h": 19
    },
    "deepnote_cell_type": "markdown"
   }
  },
  {
   "cell_type": "code",
   "metadata": {
    "tags": [],
    "cell_id": "00002-2889fa94-73fb-4cd1-9a94-25e1abe3dd34",
    "deepnote_to_be_reexecuted": false,
    "source_hash": "8a170916",
    "execution_start": 1641965947007,
    "execution_millis": 96,
    "deepnote_app_coordinates": {
     "x": 0,
     "y": 20,
     "w": 19,
     "h": 31
    },
    "deepnote_cell_type": "code"
   },
   "source": "import pandas as pd\nimport numpy as np\n\ndata = pd.read_csv('users.csv')\ndata",
   "outputs": [
    {
     "output_type": "execute_result",
     "execution_count": 2,
     "data": {
      "application/vnd.deepnote.dataframe.v3+json": {
       "column_count": 6,
       "row_count": 200,
       "columns": [
        {
         "name": "id",
         "dtype": "int64",
         "stats": {
          "unique_count": 200,
          "nan_count": 0,
          "min": "0",
          "max": "199",
          "histogram": [
           {
            "bin_start": 0,
            "bin_end": 19.9,
            "count": 20
           },
           {
            "bin_start": 19.9,
            "bin_end": 39.8,
            "count": 20
           },
           {
            "bin_start": 39.8,
            "bin_end": 59.699999999999996,
            "count": 20
           },
           {
            "bin_start": 59.699999999999996,
            "bin_end": 79.6,
            "count": 20
           },
           {
            "bin_start": 79.6,
            "bin_end": 99.5,
            "count": 20
           },
           {
            "bin_start": 99.5,
            "bin_end": 119.39999999999999,
            "count": 20
           },
           {
            "bin_start": 119.39999999999999,
            "bin_end": 139.29999999999998,
            "count": 20
           },
           {
            "bin_start": 139.29999999999998,
            "bin_end": 159.2,
            "count": 20
           },
           {
            "bin_start": 159.2,
            "bin_end": 179.1,
            "count": 20
           },
           {
            "bin_start": 179.1,
            "bin_end": 199,
            "count": 20
           }
          ]
         }
        },
        {
         "name": "nombre",
         "dtype": "object",
         "stats": {
          "unique_count": 197,
          "nan_count": 0,
          "categories": [
           {
            "name": "Mr Gary Berry",
            "count": 4
           },
           {
            "name": "Mr Jerome Thomas",
            "count": 1
           },
           {
            "name": "195 others",
            "count": 195
           }
          ]
         }
        },
        {
         "name": "edad",
         "dtype": "int64",
         "stats": {
          "unique_count": 53,
          "nan_count": 0,
          "min": "22",
          "max": "75",
          "histogram": [
           {
            "bin_start": 22,
            "bin_end": 27.3,
            "count": 28
           },
           {
            "bin_start": 27.3,
            "bin_end": 32.6,
            "count": 22
           },
           {
            "bin_start": 32.6,
            "bin_end": 37.9,
            "count": 16
           },
           {
            "bin_start": 37.9,
            "bin_end": 43.2,
            "count": 20
           },
           {
            "bin_start": 43.2,
            "bin_end": 48.5,
            "count": 13
           },
           {
            "bin_start": 48.5,
            "bin_end": 53.8,
            "count": 16
           },
           {
            "bin_start": 53.8,
            "bin_end": 59.1,
            "count": 22
           },
           {
            "bin_start": 59.1,
            "bin_end": 64.4,
            "count": 23
           },
           {
            "bin_start": 64.4,
            "bin_end": 69.69999999999999,
            "count": 18
           },
           {
            "bin_start": 69.69999999999999,
            "bin_end": 75,
            "count": 22
           }
          ]
         }
        },
        {
         "name": "genero",
         "dtype": "object",
         "stats": {
          "unique_count": 2,
          "nan_count": 0,
          "categories": [
           {
            "name": "female",
            "count": 106
           },
           {
            "name": "male",
            "count": 94
           }
          ]
         }
        },
        {
         "name": "pais",
         "dtype": "object",
         "stats": {
          "unique_count": 17,
          "nan_count": 0,
          "categories": [
           {
            "name": "Denmark",
            "count": 16
           },
           {
            "name": "Ireland",
            "count": 16
           },
           {
            "name": "15 others",
            "count": 168
           }
          ]
         }
        },
        {
         "name": "email",
         "dtype": "object",
         "stats": {
          "unique_count": 197,
          "nan_count": 0,
          "categories": [
           {
            "name": "gary.berry@example.com",
            "count": 4
           },
           {
            "name": "jerome.thomas@example.com",
            "count": 1
           },
           {
            "name": "195 others",
            "count": 195
           }
          ]
         }
        },
        {
         "name": "_deepnote_index_column",
         "dtype": "int64"
        }
       ],
       "rows": [
        {
         "id": 0,
         "nombre": "Mr Jerome Thomas",
         "edad": 73,
         "genero": "male",
         "pais": "United States",
         "email": "jerome.thomas@example.com",
         "_deepnote_index_column": 0
        },
        {
         "id": 1,
         "nombre": "Mr Gary Berry",
         "edad": 70,
         "genero": "male",
         "pais": "United Kingdom",
         "email": "gary.berry@example.com",
         "_deepnote_index_column": 1
        },
        {
         "id": 2,
         "nombre": "Mr Noham Dubois",
         "edad": 40,
         "genero": "male",
         "pais": "France",
         "email": "noham.dubois@example.com",
         "_deepnote_index_column": 2
        },
        {
         "id": 3,
         "nombre": "Mrs Naja Johansen",
         "edad": 63,
         "genero": "female",
         "pais": "Denmark",
         "email": "naja.johansen@example.com",
         "_deepnote_index_column": 3
        },
        {
         "id": 4,
         "nombre": "Mr Damien Marchand",
         "edad": 61,
         "genero": "male",
         "pais": "France",
         "email": "damien.marchand@example.com",
         "_deepnote_index_column": 4
        },
        {
         "id": 5,
         "nombre": "Mr Harri Althoff",
         "edad": 56,
         "genero": "male",
         "pais": "Germany",
         "email": "harri.althoff@example.com",
         "_deepnote_index_column": 5
        },
        {
         "id": 6,
         "nombre": "Mr Noah Olsen",
         "edad": 40,
         "genero": "male",
         "pais": "Denmark",
         "email": "noah.olsen@example.com",
         "_deepnote_index_column": 6
        },
        {
         "id": 7,
         "nombre": "Ms Britta Weinert",
         "edad": 35,
         "genero": "female",
         "pais": "Germany",
         "email": "britta.weinert@example.com",
         "_deepnote_index_column": 7
        },
        {
         "id": 8,
         "nombre": "Mr Jakob Russell",
         "edad": 44,
         "genero": "male",
         "pais": "Ireland",
         "email": "jakob.russell@example.com",
         "_deepnote_index_column": 8
        },
        {
         "id": 9,
         "nombre": "Miss Emilia Laitinen",
         "edad": 53,
         "genero": "female",
         "pais": "Finland",
         "email": "emilia.laitinen@example.com",
         "_deepnote_index_column": 9
        }
       ]
      },
      "text/plain": "      id              nombre  edad  genero            pais  \\\n0      0    Mr Jerome Thomas    73    male   United States   \n1      1       Mr Gary Berry    70    male  United Kingdom   \n2      2     Mr Noham Dubois    40    male          France   \n3      3   Mrs Naja Johansen    63  female         Denmark   \n4      4  Mr Damien Marchand    61    male          France   \n..   ...                 ...   ...     ...             ...   \n195  195       Mr Raul Bravo    46    male           Spain   \n196  196   Miss Maeva Fortin    40  female          Canada   \n197  197   Mr Gabriel Berger    40    male          France   \n198  198  Mrs Ülkü Tanrıkulu    37  female          Turkey   \n199  199     Mr Raff Valkema    60    male     Netherlands   \n\n                           email  \n0      jerome.thomas@example.com  \n1         gary.berry@example.com  \n2       noham.dubois@example.com  \n3      naja.johansen@example.com  \n4    damien.marchand@example.com  \n..                           ...  \n195       raul.bravo@example.com  \n196     maeva.fortin@example.com  \n197   gabriel.berger@example.com  \n198   ulku.tanrikulu@example.com  \n199     raff.valkema@example.com  \n\n[200 rows x 6 columns]",
      "text/html": "<div>\n<style scoped>\n    .dataframe tbody tr th:only-of-type {\n        vertical-align: middle;\n    }\n\n    .dataframe tbody tr th {\n        vertical-align: top;\n    }\n\n    .dataframe thead th {\n        text-align: right;\n    }\n</style>\n<table border=\"1\" class=\"dataframe\">\n  <thead>\n    <tr style=\"text-align: right;\">\n      <th></th>\n      <th>id</th>\n      <th>nombre</th>\n      <th>edad</th>\n      <th>genero</th>\n      <th>pais</th>\n      <th>email</th>\n    </tr>\n  </thead>\n  <tbody>\n    <tr>\n      <th>0</th>\n      <td>0</td>\n      <td>Mr Jerome Thomas</td>\n      <td>73</td>\n      <td>male</td>\n      <td>United States</td>\n      <td>jerome.thomas@example.com</td>\n    </tr>\n    <tr>\n      <th>1</th>\n      <td>1</td>\n      <td>Mr Gary Berry</td>\n      <td>70</td>\n      <td>male</td>\n      <td>United Kingdom</td>\n      <td>gary.berry@example.com</td>\n    </tr>\n    <tr>\n      <th>2</th>\n      <td>2</td>\n      <td>Mr Noham Dubois</td>\n      <td>40</td>\n      <td>male</td>\n      <td>France</td>\n      <td>noham.dubois@example.com</td>\n    </tr>\n    <tr>\n      <th>3</th>\n      <td>3</td>\n      <td>Mrs Naja Johansen</td>\n      <td>63</td>\n      <td>female</td>\n      <td>Denmark</td>\n      <td>naja.johansen@example.com</td>\n    </tr>\n    <tr>\n      <th>4</th>\n      <td>4</td>\n      <td>Mr Damien Marchand</td>\n      <td>61</td>\n      <td>male</td>\n      <td>France</td>\n      <td>damien.marchand@example.com</td>\n    </tr>\n    <tr>\n      <th>...</th>\n      <td>...</td>\n      <td>...</td>\n      <td>...</td>\n      <td>...</td>\n      <td>...</td>\n      <td>...</td>\n    </tr>\n    <tr>\n      <th>195</th>\n      <td>195</td>\n      <td>Mr Raul Bravo</td>\n      <td>46</td>\n      <td>male</td>\n      <td>Spain</td>\n      <td>raul.bravo@example.com</td>\n    </tr>\n    <tr>\n      <th>196</th>\n      <td>196</td>\n      <td>Miss Maeva Fortin</td>\n      <td>40</td>\n      <td>female</td>\n      <td>Canada</td>\n      <td>maeva.fortin@example.com</td>\n    </tr>\n    <tr>\n      <th>197</th>\n      <td>197</td>\n      <td>Mr Gabriel Berger</td>\n      <td>40</td>\n      <td>male</td>\n      <td>France</td>\n      <td>gabriel.berger@example.com</td>\n    </tr>\n    <tr>\n      <th>198</th>\n      <td>198</td>\n      <td>Mrs Ülkü Tanrıkulu</td>\n      <td>37</td>\n      <td>female</td>\n      <td>Turkey</td>\n      <td>ulku.tanrikulu@example.com</td>\n    </tr>\n    <tr>\n      <th>199</th>\n      <td>199</td>\n      <td>Mr Raff Valkema</td>\n      <td>60</td>\n      <td>male</td>\n      <td>Netherlands</td>\n      <td>raff.valkema@example.com</td>\n    </tr>\n  </tbody>\n</table>\n<p>200 rows × 6 columns</p>\n</div>"
     },
     "metadata": {}
    }
   ],
   "execution_count": 2
  },
  {
   "cell_type": "markdown",
   "source": "### Mostrar&nbsp;en&nbsp;consola&nbsp;el&nbsp;nombre&nbsp;de&nbsp;todos&nbsp;los&nbsp;usuarios&nbsp;que&nbsp;no&nbsp;poseen&nbsp;correos&nbsp;electrónicos",
   "metadata": {
    "tags": [],
    "is_collapsed": false,
    "cell_id": "00003-585380b3-6241-45dc-95ec-8141a5e4eb2c",
    "deepnote_app_coordinates": {
     "x": 0,
     "y": 52,
     "w": 21,
     "h": 3
    },
    "deepnote_cell_type": "text-cell-h3"
   }
  },
  {
   "cell_type": "code",
   "metadata": {
    "tags": [],
    "cell_id": "00003-3f2f4500-b886-4d18-94aa-409964dcc750",
    "deepnote_to_be_reexecuted": false,
    "source_hash": "f809e034",
    "execution_start": 1641965947106,
    "execution_millis": 67,
    "deepnote_cell_type": "code"
   },
   "source": "data[pd.isna(data['email'])]",
   "outputs": [
    {
     "output_type": "execute_result",
     "execution_count": 3,
     "data": {
      "application/vnd.deepnote.dataframe.v3+json": {
       "column_count": 6,
       "row_count": 0,
       "columns": [
        {
         "name": "id",
         "dtype": "int64",
         "stats": {
          "unique_count": 0,
          "nan_count": 0,
          "min": null,
          "max": null,
          "histogram": [
           {
            "bin_start": 0,
            "bin_end": 0.1,
            "count": 0
           },
           {
            "bin_start": 0.1,
            "bin_end": 0.2,
            "count": 0
           },
           {
            "bin_start": 0.2,
            "bin_end": 0.30000000000000004,
            "count": 0
           },
           {
            "bin_start": 0.30000000000000004,
            "bin_end": 0.4,
            "count": 0
           },
           {
            "bin_start": 0.4,
            "bin_end": 0.5,
            "count": 0
           },
           {
            "bin_start": 0.5,
            "bin_end": 0.6000000000000001,
            "count": 0
           },
           {
            "bin_start": 0.6000000000000001,
            "bin_end": 0.7000000000000001,
            "count": 0
           },
           {
            "bin_start": 0.7000000000000001,
            "bin_end": 0.8,
            "count": 0
           },
           {
            "bin_start": 0.8,
            "bin_end": 0.9,
            "count": 0
           },
           {
            "bin_start": 0.9,
            "bin_end": 1,
            "count": 0
           }
          ]
         }
        },
        {
         "name": "nombre",
         "dtype": "object",
         "stats": {
          "unique_count": 0,
          "nan_count": 0,
          "categories": []
         }
        },
        {
         "name": "edad",
         "dtype": "int64",
         "stats": {
          "unique_count": 0,
          "nan_count": 0,
          "min": null,
          "max": null,
          "histogram": [
           {
            "bin_start": 0,
            "bin_end": 0.1,
            "count": 0
           },
           {
            "bin_start": 0.1,
            "bin_end": 0.2,
            "count": 0
           },
           {
            "bin_start": 0.2,
            "bin_end": 0.30000000000000004,
            "count": 0
           },
           {
            "bin_start": 0.30000000000000004,
            "bin_end": 0.4,
            "count": 0
           },
           {
            "bin_start": 0.4,
            "bin_end": 0.5,
            "count": 0
           },
           {
            "bin_start": 0.5,
            "bin_end": 0.6000000000000001,
            "count": 0
           },
           {
            "bin_start": 0.6000000000000001,
            "bin_end": 0.7000000000000001,
            "count": 0
           },
           {
            "bin_start": 0.7000000000000001,
            "bin_end": 0.8,
            "count": 0
           },
           {
            "bin_start": 0.8,
            "bin_end": 0.9,
            "count": 0
           },
           {
            "bin_start": 0.9,
            "bin_end": 1,
            "count": 0
           }
          ]
         }
        },
        {
         "name": "genero",
         "dtype": "object",
         "stats": {
          "unique_count": 0,
          "nan_count": 0,
          "categories": []
         }
        },
        {
         "name": "pais",
         "dtype": "object",
         "stats": {
          "unique_count": 0,
          "nan_count": 0,
          "categories": []
         }
        },
        {
         "name": "email",
         "dtype": "object",
         "stats": {
          "unique_count": 0,
          "nan_count": 0,
          "categories": []
         }
        },
        {
         "name": "_deepnote_index_column",
         "dtype": "int64"
        }
       ],
       "rows": []
      },
      "text/plain": "Empty DataFrame\nColumns: [id, nombre, edad, genero, pais, email]\nIndex: []",
      "text/html": "<div>\n<style scoped>\n    .dataframe tbody tr th:only-of-type {\n        vertical-align: middle;\n    }\n\n    .dataframe tbody tr th {\n        vertical-align: top;\n    }\n\n    .dataframe thead th {\n        text-align: right;\n    }\n</style>\n<table border=\"1\" class=\"dataframe\">\n  <thead>\n    <tr style=\"text-align: right;\">\n      <th></th>\n      <th>id</th>\n      <th>nombre</th>\n      <th>edad</th>\n      <th>genero</th>\n      <th>pais</th>\n      <th>email</th>\n    </tr>\n  </thead>\n  <tbody>\n  </tbody>\n</table>\n</div>"
     },
     "metadata": {}
    }
   ],
   "execution_count": 3
  },
  {
   "cell_type": "code",
   "metadata": {
    "tags": [],
    "cell_id": "00003-e7d821af-1106-4c63-9d56-ac2ebdeef9e3",
    "deepnote_to_be_reexecuted": false,
    "source_hash": "b16c539e",
    "execution_start": 1641965947178,
    "execution_millis": 10,
    "deepnote_output_heights": [
     21.1875
    ],
    "deepnote_app_coordinates": {
     "x": 0,
     "y": 55,
     "w": 19,
     "h": 7
    },
    "deepnote_cell_type": "code"
   },
   "source": "# solución propia\ndata[data['email'].isnull()]['nombre']\n# todos los usuarios tienen correo electrónico",
   "outputs": [
    {
     "output_type": "execute_result",
     "execution_count": 4,
     "data": {
      "text/plain": "Series([], Name: nombre, dtype: object)"
     },
     "metadata": {}
    }
   ],
   "execution_count": 4
  },
  {
   "cell_type": "markdown",
   "source": "### Listar el nombre y correo del usuario más joven de Canadá",
   "metadata": {
    "tags": [],
    "is_collapsed": false,
    "cell_id": "00006-9c4da332-5698-4eb0-bde5-2210d54112bb",
    "deepnote_app_coordinates": {
     "x": 0,
     "y": 63,
     "w": 16,
     "h": 4
    },
    "deepnote_cell_type": "text-cell-h3"
   }
  },
  {
   "cell_type": "code",
   "metadata": {
    "tags": [],
    "cell_id": "00007-7b4ceb13-72f9-4192-84a2-4f2d3a5a6773",
    "deepnote_to_be_reexecuted": false,
    "source_hash": "ef0d276f",
    "execution_start": 1641965947194,
    "execution_millis": 69,
    "deepnote_cell_type": "code"
   },
   "source": "data.query('pais == \"Canada\"').sort_values('edad')[['nombre','email']].head(1)",
   "outputs": [
    {
     "output_type": "execute_result",
     "execution_count": 5,
     "data": {
      "application/vnd.deepnote.dataframe.v3+json": {
       "column_count": 2,
       "row_count": 1,
       "columns": [
        {
         "name": "nombre",
         "dtype": "object",
         "stats": {
          "unique_count": 1,
          "nan_count": 0,
          "categories": [
           {
            "name": "Mr Philip Bélanger",
            "count": 1
           }
          ]
         }
        },
        {
         "name": "email",
         "dtype": "object",
         "stats": {
          "unique_count": 1,
          "nan_count": 0,
          "categories": [
           {
            "name": "philip.belanger@example.com",
            "count": 1
           }
          ]
         }
        },
        {
         "name": "_deepnote_index_column",
         "dtype": "int64"
        }
       ],
       "rows": [
        {
         "nombre": "Mr Philip Bélanger",
         "email": "philip.belanger@example.com",
         "_deepnote_index_column": 184
        }
       ]
      },
      "text/plain": "                 nombre                        email\n184  Mr Philip Bélanger  philip.belanger@example.com",
      "text/html": "<div>\n<style scoped>\n    .dataframe tbody tr th:only-of-type {\n        vertical-align: middle;\n    }\n\n    .dataframe tbody tr th {\n        vertical-align: top;\n    }\n\n    .dataframe thead th {\n        text-align: right;\n    }\n</style>\n<table border=\"1\" class=\"dataframe\">\n  <thead>\n    <tr style=\"text-align: right;\">\n      <th></th>\n      <th>nombre</th>\n      <th>email</th>\n    </tr>\n  </thead>\n  <tbody>\n    <tr>\n      <th>184</th>\n      <td>Mr Philip Bélanger</td>\n      <td>philip.belanger@example.com</td>\n    </tr>\n  </tbody>\n</table>\n</div>"
     },
     "metadata": {}
    }
   ],
   "execution_count": 5
  },
  {
   "cell_type": "code",
   "metadata": {
    "tags": [],
    "cell_id": "00008-1fc07201-4ee7-492a-9e71-2e3a6d9c88be",
    "deepnote_to_be_reexecuted": false,
    "source_hash": "8d5f6347",
    "execution_start": 1641965947266,
    "execution_millis": 66,
    "deepnote_app_coordinates": {
     "x": 0,
     "y": 67,
     "w": 19,
     "h": 9
    },
    "deepnote_cell_type": "code"
   },
   "source": "# solución propia\ndata[data['pais'] == 'Canada'].sort_values('edad')[['nombre','email']].head(1)",
   "outputs": [
    {
     "output_type": "execute_result",
     "execution_count": 6,
     "data": {
      "application/vnd.deepnote.dataframe.v3+json": {
       "column_count": 2,
       "row_count": 1,
       "columns": [
        {
         "name": "nombre",
         "dtype": "object",
         "stats": {
          "unique_count": 1,
          "nan_count": 0,
          "categories": [
           {
            "name": "Mr Philip Bélanger",
            "count": 1
           }
          ]
         }
        },
        {
         "name": "email",
         "dtype": "object",
         "stats": {
          "unique_count": 1,
          "nan_count": 0,
          "categories": [
           {
            "name": "philip.belanger@example.com",
            "count": 1
           }
          ]
         }
        },
        {
         "name": "_deepnote_index_column",
         "dtype": "int64"
        }
       ],
       "rows": [
        {
         "nombre": "Mr Philip Bélanger",
         "email": "philip.belanger@example.com",
         "_deepnote_index_column": 184
        }
       ]
      },
      "text/plain": "                 nombre                        email\n184  Mr Philip Bélanger  philip.belanger@example.com",
      "text/html": "<div>\n<style scoped>\n    .dataframe tbody tr th:only-of-type {\n        vertical-align: middle;\n    }\n\n    .dataframe tbody tr th {\n        vertical-align: top;\n    }\n\n    .dataframe thead th {\n        text-align: right;\n    }\n</style>\n<table border=\"1\" class=\"dataframe\">\n  <thead>\n    <tr style=\"text-align: right;\">\n      <th></th>\n      <th>nombre</th>\n      <th>email</th>\n    </tr>\n  </thead>\n  <tbody>\n    <tr>\n      <th>184</th>\n      <td>Mr Philip Bélanger</td>\n      <td>philip.belanger@example.com</td>\n    </tr>\n  </tbody>\n</table>\n</div>"
     },
     "metadata": {}
    }
   ],
   "execution_count": 6
  },
  {
   "cell_type": "markdown",
   "source": "### Listar&nbsp;el&nbsp;nombre&nbsp;y&nbsp;correo&nbsp;de&nbsp;los&nbsp;usuarios&nbsp;más&nbsp;jóvenes&nbsp;de&nbsp;Alemania&nbsp;y&nbsp;Canadá",
   "metadata": {
    "tags": [],
    "is_collapsed": false,
    "cell_id": "00006-8d8b2ce7-ac5a-425f-b198-63665a27498b",
    "deepnote_app_coordinates": {
     "x": 0,
     "y": 78,
     "w": 18,
     "h": 3
    },
    "deepnote_cell_type": "text-cell-h3"
   }
  },
  {
   "cell_type": "code",
   "metadata": {
    "tags": [],
    "cell_id": "00004-d2b2943f-a707-43dd-8f49-0ee09d82b8d6",
    "deepnote_to_be_reexecuted": false,
    "source_hash": "6b692dc",
    "execution_start": 1641965947345,
    "execution_millis": 69,
    "deepnote_cell_type": "code"
   },
   "source": "canada = data[data['pais'] == 'Canada'].sort_values('edad').head(1)\nalemania = data[data['pais'] == 'Germany'].sort_values('edad').head(1)\n\ncanada.append(alemania)",
   "outputs": [
    {
     "output_type": "execute_result",
     "execution_count": 7,
     "data": {
      "application/vnd.deepnote.dataframe.v3+json": {
       "column_count": 6,
       "row_count": 2,
       "columns": [
        {
         "name": "id",
         "dtype": "int64",
         "stats": {
          "unique_count": 2,
          "nan_count": 0,
          "min": "88",
          "max": "184",
          "histogram": [
           {
            "bin_start": 88,
            "bin_end": 97.6,
            "count": 1
           },
           {
            "bin_start": 97.6,
            "bin_end": 107.2,
            "count": 0
           },
           {
            "bin_start": 107.2,
            "bin_end": 116.8,
            "count": 0
           },
           {
            "bin_start": 116.8,
            "bin_end": 126.4,
            "count": 0
           },
           {
            "bin_start": 126.4,
            "bin_end": 136,
            "count": 0
           },
           {
            "bin_start": 136,
            "bin_end": 145.6,
            "count": 0
           },
           {
            "bin_start": 145.6,
            "bin_end": 155.2,
            "count": 0
           },
           {
            "bin_start": 155.2,
            "bin_end": 164.8,
            "count": 0
           },
           {
            "bin_start": 164.8,
            "bin_end": 174.39999999999998,
            "count": 0
           },
           {
            "bin_start": 174.39999999999998,
            "bin_end": 184,
            "count": 1
           }
          ]
         }
        },
        {
         "name": "nombre",
         "dtype": "object",
         "stats": {
          "unique_count": 2,
          "nan_count": 0,
          "categories": [
           {
            "name": "Mr Philip Bélanger",
            "count": 1
           },
           {
            "name": "Mrs Hilda Epp",
            "count": 1
           }
          ]
         }
        },
        {
         "name": "edad",
         "dtype": "int64",
         "stats": {
          "unique_count": 2,
          "nan_count": 0,
          "min": "22",
          "max": "24",
          "histogram": [
           {
            "bin_start": 22,
            "bin_end": 22.2,
            "count": 1
           },
           {
            "bin_start": 22.2,
            "bin_end": 22.4,
            "count": 0
           },
           {
            "bin_start": 22.4,
            "bin_end": 22.6,
            "count": 0
           },
           {
            "bin_start": 22.6,
            "bin_end": 22.8,
            "count": 0
           },
           {
            "bin_start": 22.8,
            "bin_end": 23,
            "count": 0
           },
           {
            "bin_start": 23,
            "bin_end": 23.2,
            "count": 0
           },
           {
            "bin_start": 23.2,
            "bin_end": 23.4,
            "count": 0
           },
           {
            "bin_start": 23.4,
            "bin_end": 23.6,
            "count": 0
           },
           {
            "bin_start": 23.6,
            "bin_end": 23.8,
            "count": 0
           },
           {
            "bin_start": 23.8,
            "bin_end": 24,
            "count": 1
           }
          ]
         }
        },
        {
         "name": "genero",
         "dtype": "object",
         "stats": {
          "unique_count": 2,
          "nan_count": 0,
          "categories": [
           {
            "name": "male",
            "count": 1
           },
           {
            "name": "female",
            "count": 1
           }
          ]
         }
        },
        {
         "name": "pais",
         "dtype": "object",
         "stats": {
          "unique_count": 2,
          "nan_count": 0,
          "categories": [
           {
            "name": "Canada",
            "count": 1
           },
           {
            "name": "Germany",
            "count": 1
           }
          ]
         }
        },
        {
         "name": "email",
         "dtype": "object",
         "stats": {
          "unique_count": 2,
          "nan_count": 0,
          "categories": [
           {
            "name": "philip.belanger@example.com",
            "count": 1
           },
           {
            "name": "hilda.epp@example.com",
            "count": 1
           }
          ]
         }
        },
        {
         "name": "_deepnote_index_column",
         "dtype": "int64"
        }
       ],
       "rows": [
        {
         "id": 184,
         "nombre": "Mr Philip Bélanger",
         "edad": 24,
         "genero": "male",
         "pais": "Canada",
         "email": "philip.belanger@example.com",
         "_deepnote_index_column": 184
        },
        {
         "id": 88,
         "nombre": "Mrs Hilda Epp",
         "edad": 22,
         "genero": "female",
         "pais": "Germany",
         "email": "hilda.epp@example.com",
         "_deepnote_index_column": 88
        }
       ]
      },
      "text/plain": "      id              nombre  edad  genero     pais  \\\n184  184  Mr Philip Bélanger    24    male   Canada   \n88    88       Mrs Hilda Epp    22  female  Germany   \n\n                           email  \n184  philip.belanger@example.com  \n88         hilda.epp@example.com  ",
      "text/html": "<div>\n<style scoped>\n    .dataframe tbody tr th:only-of-type {\n        vertical-align: middle;\n    }\n\n    .dataframe tbody tr th {\n        vertical-align: top;\n    }\n\n    .dataframe thead th {\n        text-align: right;\n    }\n</style>\n<table border=\"1\" class=\"dataframe\">\n  <thead>\n    <tr style=\"text-align: right;\">\n      <th></th>\n      <th>id</th>\n      <th>nombre</th>\n      <th>edad</th>\n      <th>genero</th>\n      <th>pais</th>\n      <th>email</th>\n    </tr>\n  </thead>\n  <tbody>\n    <tr>\n      <th>184</th>\n      <td>184</td>\n      <td>Mr Philip Bélanger</td>\n      <td>24</td>\n      <td>male</td>\n      <td>Canada</td>\n      <td>philip.belanger@example.com</td>\n    </tr>\n    <tr>\n      <th>88</th>\n      <td>88</td>\n      <td>Mrs Hilda Epp</td>\n      <td>22</td>\n      <td>female</td>\n      <td>Germany</td>\n      <td>hilda.epp@example.com</td>\n    </tr>\n  </tbody>\n</table>\n</div>"
     },
     "metadata": {}
    }
   ],
   "execution_count": 7
  },
  {
   "cell_type": "code",
   "metadata": {
    "tags": [],
    "cell_id": "00005-2f045740-daa7-4630-bf2a-cc9324ef55ad",
    "deepnote_to_be_reexecuted": false,
    "source_hash": "8f0c2906",
    "execution_start": 1641965947479,
    "execution_millis": 3,
    "deepnote_app_coordinates": {
     "x": 0,
     "y": 81,
     "w": 19,
     "h": 11
    },
    "deepnote_cell_type": "code"
   },
   "source": "# solución propia\ndata.iloc[data[data['pais'].isin(['Germany','Canada'])]['edad'].sort_values().head(2).index.values]",
   "outputs": [
    {
     "output_type": "execute_result",
     "execution_count": 8,
     "data": {
      "application/vnd.deepnote.dataframe.v3+json": {
       "column_count": 6,
       "row_count": 2,
       "columns": [
        {
         "name": "id",
         "dtype": "int64",
         "stats": {
          "unique_count": 2,
          "nan_count": 0,
          "min": "88",
          "max": "184",
          "histogram": [
           {
            "bin_start": 88,
            "bin_end": 97.6,
            "count": 1
           },
           {
            "bin_start": 97.6,
            "bin_end": 107.2,
            "count": 0
           },
           {
            "bin_start": 107.2,
            "bin_end": 116.8,
            "count": 0
           },
           {
            "bin_start": 116.8,
            "bin_end": 126.4,
            "count": 0
           },
           {
            "bin_start": 126.4,
            "bin_end": 136,
            "count": 0
           },
           {
            "bin_start": 136,
            "bin_end": 145.6,
            "count": 0
           },
           {
            "bin_start": 145.6,
            "bin_end": 155.2,
            "count": 0
           },
           {
            "bin_start": 155.2,
            "bin_end": 164.8,
            "count": 0
           },
           {
            "bin_start": 164.8,
            "bin_end": 174.39999999999998,
            "count": 0
           },
           {
            "bin_start": 174.39999999999998,
            "bin_end": 184,
            "count": 1
           }
          ]
         }
        },
        {
         "name": "nombre",
         "dtype": "object",
         "stats": {
          "unique_count": 2,
          "nan_count": 0,
          "categories": [
           {
            "name": "Mrs Hilda Epp",
            "count": 1
           },
           {
            "name": "Mr Philip Bélanger",
            "count": 1
           }
          ]
         }
        },
        {
         "name": "edad",
         "dtype": "int64",
         "stats": {
          "unique_count": 2,
          "nan_count": 0,
          "min": "22",
          "max": "24",
          "histogram": [
           {
            "bin_start": 22,
            "bin_end": 22.2,
            "count": 1
           },
           {
            "bin_start": 22.2,
            "bin_end": 22.4,
            "count": 0
           },
           {
            "bin_start": 22.4,
            "bin_end": 22.6,
            "count": 0
           },
           {
            "bin_start": 22.6,
            "bin_end": 22.8,
            "count": 0
           },
           {
            "bin_start": 22.8,
            "bin_end": 23,
            "count": 0
           },
           {
            "bin_start": 23,
            "bin_end": 23.2,
            "count": 0
           },
           {
            "bin_start": 23.2,
            "bin_end": 23.4,
            "count": 0
           },
           {
            "bin_start": 23.4,
            "bin_end": 23.6,
            "count": 0
           },
           {
            "bin_start": 23.6,
            "bin_end": 23.8,
            "count": 0
           },
           {
            "bin_start": 23.8,
            "bin_end": 24,
            "count": 1
           }
          ]
         }
        },
        {
         "name": "genero",
         "dtype": "object",
         "stats": {
          "unique_count": 2,
          "nan_count": 0,
          "categories": [
           {
            "name": "female",
            "count": 1
           },
           {
            "name": "male",
            "count": 1
           }
          ]
         }
        },
        {
         "name": "pais",
         "dtype": "object",
         "stats": {
          "unique_count": 2,
          "nan_count": 0,
          "categories": [
           {
            "name": "Germany",
            "count": 1
           },
           {
            "name": "Canada",
            "count": 1
           }
          ]
         }
        },
        {
         "name": "email",
         "dtype": "object",
         "stats": {
          "unique_count": 2,
          "nan_count": 0,
          "categories": [
           {
            "name": "hilda.epp@example.com",
            "count": 1
           },
           {
            "name": "philip.belanger@example.com",
            "count": 1
           }
          ]
         }
        },
        {
         "name": "_deepnote_index_column",
         "dtype": "int64"
        }
       ],
       "rows": [
        {
         "id": 88,
         "nombre": "Mrs Hilda Epp",
         "edad": 22,
         "genero": "female",
         "pais": "Germany",
         "email": "hilda.epp@example.com",
         "_deepnote_index_column": 88
        },
        {
         "id": 184,
         "nombre": "Mr Philip Bélanger",
         "edad": 24,
         "genero": "male",
         "pais": "Canada",
         "email": "philip.belanger@example.com",
         "_deepnote_index_column": 184
        }
       ]
      },
      "text/plain": "      id              nombre  edad  genero     pais  \\\n88    88       Mrs Hilda Epp    22  female  Germany   \n184  184  Mr Philip Bélanger    24    male   Canada   \n\n                           email  \n88         hilda.epp@example.com  \n184  philip.belanger@example.com  ",
      "text/html": "<div>\n<style scoped>\n    .dataframe tbody tr th:only-of-type {\n        vertical-align: middle;\n    }\n\n    .dataframe tbody tr th {\n        vertical-align: top;\n    }\n\n    .dataframe thead th {\n        text-align: right;\n    }\n</style>\n<table border=\"1\" class=\"dataframe\">\n  <thead>\n    <tr style=\"text-align: right;\">\n      <th></th>\n      <th>id</th>\n      <th>nombre</th>\n      <th>edad</th>\n      <th>genero</th>\n      <th>pais</th>\n      <th>email</th>\n    </tr>\n  </thead>\n  <tbody>\n    <tr>\n      <th>88</th>\n      <td>88</td>\n      <td>Mrs Hilda Epp</td>\n      <td>22</td>\n      <td>female</td>\n      <td>Germany</td>\n      <td>hilda.epp@example.com</td>\n    </tr>\n    <tr>\n      <th>184</th>\n      <td>184</td>\n      <td>Mr Philip Bélanger</td>\n      <td>24</td>\n      <td>male</td>\n      <td>Canada</td>\n      <td>philip.belanger@example.com</td>\n    </tr>\n  </tbody>\n</table>\n</div>"
     },
     "metadata": {}
    }
   ],
   "execution_count": 8
  },
  {
   "cell_type": "markdown",
   "source": "### Mostrar los usuarios con mayor edad",
   "metadata": {
    "tags": [],
    "is_collapsed": false,
    "cell_id": "00012-f015acbe-2668-43de-a608-78ea153773cd",
    "deepnote_app_coordinates": {
     "x": 0,
     "y": 94,
     "w": 12,
     "h": 3
    },
    "deepnote_cell_type": "text-cell-h3"
   }
  },
  {
   "cell_type": "code",
   "metadata": {
    "tags": [],
    "cell_id": "00013-f579d932-fd6f-4d4f-b613-15b75de81340",
    "deepnote_to_be_reexecuted": false,
    "source_hash": "8b2e439b",
    "execution_start": 1641965947486,
    "execution_millis": 58,
    "deepnote_output_heights": [
     117.1875
    ],
    "deepnote_app_coordinates": {
     "x": 0,
     "y": 97,
     "w": 19,
     "h": 16
    },
    "deepnote_cell_type": "code"
   },
   "source": "data.sort_values('edad', ascending = False).head()",
   "outputs": [
    {
     "output_type": "execute_result",
     "execution_count": 9,
     "data": {
      "application/vnd.deepnote.dataframe.v3+json": {
       "column_count": 6,
       "row_count": 5,
       "columns": [
        {
         "name": "id",
         "dtype": "int64",
         "stats": {
          "unique_count": 5,
          "nan_count": 0,
          "min": "13",
          "max": "153",
          "histogram": [
           {
            "bin_start": 13,
            "bin_end": 27,
            "count": 1
           },
           {
            "bin_start": 27,
            "bin_end": 41,
            "count": 1
           },
           {
            "bin_start": 41,
            "bin_end": 55,
            "count": 0
           },
           {
            "bin_start": 55,
            "bin_end": 69,
            "count": 0
           },
           {
            "bin_start": 69,
            "bin_end": 83,
            "count": 1
           },
           {
            "bin_start": 83,
            "bin_end": 97,
            "count": 0
           },
           {
            "bin_start": 97,
            "bin_end": 111,
            "count": 0
           },
           {
            "bin_start": 111,
            "bin_end": 125,
            "count": 0
           },
           {
            "bin_start": 125,
            "bin_end": 139,
            "count": 1
           },
           {
            "bin_start": 139,
            "bin_end": 153,
            "count": 1
           }
          ]
         }
        },
        {
         "name": "nombre",
         "dtype": "object",
         "stats": {
          "unique_count": 5,
          "nan_count": 0,
          "categories": [
           {
            "name": "Miss Elsie Lawrence",
            "count": 1
           },
           {
            "name": "Mr Ilyès Lemaire",
            "count": 1
           },
           {
            "name": "3 others",
            "count": 3
           }
          ]
         }
        },
        {
         "name": "edad",
         "dtype": "int64",
         "stats": {
          "unique_count": 2,
          "nan_count": 0,
          "min": "74",
          "max": "75",
          "histogram": [
           {
            "bin_start": 74,
            "bin_end": 74.1,
            "count": 1
           },
           {
            "bin_start": 74.1,
            "bin_end": 74.2,
            "count": 0
           },
           {
            "bin_start": 74.2,
            "bin_end": 74.3,
            "count": 0
           },
           {
            "bin_start": 74.3,
            "bin_end": 74.4,
            "count": 0
           },
           {
            "bin_start": 74.4,
            "bin_end": 74.5,
            "count": 0
           },
           {
            "bin_start": 74.5,
            "bin_end": 74.6,
            "count": 0
           },
           {
            "bin_start": 74.6,
            "bin_end": 74.7,
            "count": 0
           },
           {
            "bin_start": 74.7,
            "bin_end": 74.8,
            "count": 0
           },
           {
            "bin_start": 74.8,
            "bin_end": 74.9,
            "count": 0
           },
           {
            "bin_start": 74.9,
            "bin_end": 75,
            "count": 4
           }
          ]
         }
        },
        {
         "name": "genero",
         "dtype": "object",
         "stats": {
          "unique_count": 2,
          "nan_count": 0,
          "categories": [
           {
            "name": "male",
            "count": 3
           },
           {
            "name": "female",
            "count": 2
           }
          ]
         }
        },
        {
         "name": "pais",
         "dtype": "object",
         "stats": {
          "unique_count": 5,
          "nan_count": 0,
          "categories": [
           {
            "name": "Australia",
            "count": 1
           },
           {
            "name": "France",
            "count": 1
           },
           {
            "name": "3 others",
            "count": 3
           }
          ]
         }
        },
        {
         "name": "email",
         "dtype": "object",
         "stats": {
          "unique_count": 5,
          "nan_count": 0,
          "categories": [
           {
            "name": "elsie.lawrence@example.com",
            "count": 1
           },
           {
            "name": "ilyes.lemaire@example.com",
            "count": 1
           },
           {
            "name": "3 others",
            "count": 3
           }
          ]
         }
        },
        {
         "name": "_deepnote_index_column",
         "dtype": "int64"
        }
       ],
       "rows": [
        {
         "id": 82,
         "nombre": "Miss Elsie Lawrence",
         "edad": 75,
         "genero": "female",
         "pais": "Australia",
         "email": "elsie.lawrence@example.com",
         "_deepnote_index_column": 82
        },
        {
         "id": 29,
         "nombre": "Mr Ilyès Lemaire",
         "edad": 75,
         "genero": "male",
         "pais": "France",
         "email": "ilyes.lemaire@example.com",
         "_deepnote_index_column": 29
        },
        {
         "id": 135,
         "nombre": "Mr Ray Henry",
         "edad": 75,
         "genero": "male",
         "pais": "United States",
         "email": "ray.henry@example.com",
         "_deepnote_index_column": 135
        },
        {
         "id": 153,
         "nombre": "Mrs Sophie Lewis",
         "edad": 75,
         "genero": "female",
         "pais": "New Zealand",
         "email": "sophie.lewis@example.com",
         "_deepnote_index_column": 153
        },
        {
         "id": 13,
         "nombre": "Mr Gerardo Garrido",
         "edad": 74,
         "genero": "male",
         "pais": "Spain",
         "email": "gerardo.garrido@example.com",
         "_deepnote_index_column": 13
        }
       ]
      },
      "text/plain": "      id               nombre  edad  genero           pais  \\\n82    82  Miss Elsie Lawrence    75  female      Australia   \n29    29     Mr Ilyès Lemaire    75    male         France   \n135  135         Mr Ray Henry    75    male  United States   \n153  153     Mrs Sophie Lewis    75  female    New Zealand   \n13    13   Mr Gerardo Garrido    74    male          Spain   \n\n                           email  \n82    elsie.lawrence@example.com  \n29     ilyes.lemaire@example.com  \n135        ray.henry@example.com  \n153     sophie.lewis@example.com  \n13   gerardo.garrido@example.com  ",
      "text/html": "<div>\n<style scoped>\n    .dataframe tbody tr th:only-of-type {\n        vertical-align: middle;\n    }\n\n    .dataframe tbody tr th {\n        vertical-align: top;\n    }\n\n    .dataframe thead th {\n        text-align: right;\n    }\n</style>\n<table border=\"1\" class=\"dataframe\">\n  <thead>\n    <tr style=\"text-align: right;\">\n      <th></th>\n      <th>id</th>\n      <th>nombre</th>\n      <th>edad</th>\n      <th>genero</th>\n      <th>pais</th>\n      <th>email</th>\n    </tr>\n  </thead>\n  <tbody>\n    <tr>\n      <th>82</th>\n      <td>82</td>\n      <td>Miss Elsie Lawrence</td>\n      <td>75</td>\n      <td>female</td>\n      <td>Australia</td>\n      <td>elsie.lawrence@example.com</td>\n    </tr>\n    <tr>\n      <th>29</th>\n      <td>29</td>\n      <td>Mr Ilyès Lemaire</td>\n      <td>75</td>\n      <td>male</td>\n      <td>France</td>\n      <td>ilyes.lemaire@example.com</td>\n    </tr>\n    <tr>\n      <th>135</th>\n      <td>135</td>\n      <td>Mr Ray Henry</td>\n      <td>75</td>\n      <td>male</td>\n      <td>United States</td>\n      <td>ray.henry@example.com</td>\n    </tr>\n    <tr>\n      <th>153</th>\n      <td>153</td>\n      <td>Mrs Sophie Lewis</td>\n      <td>75</td>\n      <td>female</td>\n      <td>New Zealand</td>\n      <td>sophie.lewis@example.com</td>\n    </tr>\n    <tr>\n      <th>13</th>\n      <td>13</td>\n      <td>Mr Gerardo Garrido</td>\n      <td>74</td>\n      <td>male</td>\n      <td>Spain</td>\n      <td>gerardo.garrido@example.com</td>\n    </tr>\n  </tbody>\n</table>\n</div>"
     },
     "metadata": {}
    }
   ],
   "execution_count": 9
  },
  {
   "cell_type": "markdown",
   "source": "### Listar los cinco países con mayor cantidad de usuarios",
   "metadata": {
    "tags": [],
    "is_collapsed": false,
    "cell_id": "00014-8e35f85e-85a4-45d4-a688-d0dbadeb27ff",
    "deepnote_app_coordinates": {
     "x": 0,
     "y": 116,
     "w": 13,
     "h": 3
    },
    "deepnote_cell_type": "text-cell-h3"
   }
  },
  {
   "cell_type": "code",
   "metadata": {
    "tags": [],
    "cell_id": "00015-2ccec3f8-d604-4327-8484-6c334b0e3a25",
    "deepnote_to_be_reexecuted": false,
    "source_hash": "ddaa1271",
    "execution_start": 1641965947554,
    "execution_millis": 6,
    "deepnote_output_heights": [
     136.390625
    ],
    "deepnote_app_coordinates": {
     "x": 0,
     "y": 119,
     "w": 19,
     "h": 10
    },
    "deepnote_cell_type": "code"
   },
   "source": "data.groupby(by = 'pais')['pais'].count().sort_values(ascending = False).head(5)",
   "outputs": [
    {
     "output_type": "execute_result",
     "execution_count": 10,
     "data": {
      "text/plain": "pais\nIreland           16\nDenmark           16\nUnited Kingdom    15\nNew Zealand       14\nNorway            14\nName: pais, dtype: int64"
     },
     "metadata": {}
    }
   ],
   "execution_count": 10
  },
  {
   "cell_type": "markdown",
   "source": "### Obtener el país con más usuarios",
   "metadata": {
    "tags": [],
    "is_collapsed": false,
    "cell_id": "00016-a0f3d915-0035-47e9-9402-8397de36fca0",
    "deepnote_app_coordinates": {
     "x": 0,
     "y": 132,
     "w": 12,
     "h": 2
    },
    "deepnote_cell_type": "text-cell-h3"
   }
  },
  {
   "cell_type": "code",
   "metadata": {
    "tags": [],
    "cell_id": "00017-874bf50b-d5d5-46d7-91a6-5cf53fb6335e",
    "deepnote_to_be_reexecuted": false,
    "source_hash": "6725da3",
    "execution_start": 1641965947604,
    "execution_millis": 11,
    "deepnote_output_heights": [
     40.390625
    ],
    "deepnote_cell_type": "code"
   },
   "source": "data['pais'].value_counts()[:1]",
   "outputs": [
    {
     "output_type": "execute_result",
     "execution_count": 11,
     "data": {
      "text/plain": "Ireland    16\nName: pais, dtype: int64"
     },
     "metadata": {}
    }
   ],
   "execution_count": 11
  },
  {
   "cell_type": "code",
   "metadata": {
    "tags": [],
    "cell_id": "00018-20756035-01bf-4171-947f-142e5d5c6bc5",
    "deepnote_to_be_reexecuted": false,
    "source_hash": "56ec9dc7",
    "execution_start": 1641965947605,
    "execution_millis": 10,
    "deepnote_output_heights": [
     78.796875
    ],
    "deepnote_app_coordinates": {
     "x": 0,
     "y": 134,
     "w": 19,
     "h": 9
    },
    "deepnote_cell_type": "code"
   },
   "source": "# solución propia\ndata.groupby('pais')['pais'].count().sort_values(ascending = False).head(2)\n\n# fueron dos países los que tienen la mayor cantidad de usuarios",
   "outputs": [
    {
     "output_type": "execute_result",
     "execution_count": 12,
     "data": {
      "text/plain": "pais\nIreland    16\nDenmark    16\nName: pais, dtype: int64"
     },
     "metadata": {}
    }
   ],
   "execution_count": 12
  },
  {
   "cell_type": "code",
   "metadata": {
    "tags": [],
    "cell_id": "00019-e0f18783-3337-433d-8db0-5a4a1113db45",
    "deepnote_to_be_reexecuted": false,
    "source_hash": "51635bbb",
    "execution_start": 1641965947605,
    "execution_millis": 11,
    "deepnote_output_heights": [
     59.59375
    ],
    "deepnote_cell_type": "code"
   },
   "source": "# La mejor opción porque automáticamente muestra todas las opciones\ndata['pais'].value_counts()[data['pais'].value_counts() == data['pais'].value_counts().max()]",
   "outputs": [
    {
     "output_type": "execute_result",
     "execution_count": 13,
     "data": {
      "text/plain": "Ireland    16\nDenmark    16\nName: pais, dtype: int64"
     },
     "metadata": {}
    }
   ],
   "execution_count": 13
  },
  {
   "cell_type": "markdown",
   "source": "### Obtener el país con más usuarios cuya edad sea mayor a 50",
   "metadata": {
    "tags": [],
    "is_collapsed": false,
    "cell_id": "00020-6aeb32fb-f7b1-4b8c-9b73-1b77506b7458",
    "deepnote_app_coordinates": {
     "x": 0,
     "y": 145,
     "w": 18,
     "h": 3
    },
    "deepnote_cell_type": "text-cell-h3"
   }
  },
  {
   "cell_type": "code",
   "metadata": {
    "tags": [],
    "cell_id": "00021-1a4f3bd8-7934-4e3a-8d3d-4b9d9e464800",
    "deepnote_to_be_reexecuted": false,
    "source_hash": "307b52a1",
    "execution_start": 1641965947617,
    "execution_millis": 6,
    "deepnote_output_heights": [
     59.59375
    ],
    "deepnote_cell_type": "code"
   },
   "source": "data.loc[data.edad > 50].groupby('pais').count().nombre.sort_values(ascending = False)[:1]",
   "outputs": [
    {
     "output_type": "execute_result",
     "execution_count": 14,
     "data": {
      "text/plain": "pais\nIran    10\nName: nombre, dtype: int64"
     },
     "metadata": {}
    }
   ],
   "execution_count": 14
  },
  {
   "cell_type": "code",
   "metadata": {
    "tags": [],
    "cell_id": "00022-f81661bf-7a3a-4cea-ba61-db9b26d1b668",
    "deepnote_to_be_reexecuted": false,
    "source_hash": "8ba459d9",
    "execution_start": 1641965947666,
    "execution_millis": 3,
    "deepnote_output_heights": [
     59.59375
    ],
    "deepnote_app_coordinates": {
     "x": 0,
     "y": 148,
     "w": 19,
     "h": 7
    },
    "deepnote_cell_type": "code"
   },
   "source": "# Solución propia\ndata[data['edad'] > 50].groupby('pais')['pais'].count().sort_values(ascending = False).head(1)",
   "outputs": [
    {
     "output_type": "execute_result",
     "execution_count": 15,
     "data": {
      "text/plain": "pais\nIran    10\nName: pais, dtype: int64"
     },
     "metadata": {}
    }
   ],
   "execution_count": 15
  },
  {
   "cell_type": "markdown",
   "source": "### Obtener la suma total de todos los usuarios de Canadá y Alemania",
   "metadata": {
    "tags": [],
    "is_collapsed": false,
    "cell_id": "00023-621e4bb3-c424-472c-9a0b-ccc00487a5cd",
    "deepnote_app_coordinates": {
     "x": 0,
     "y": 157,
     "w": 17,
     "h": 2
    },
    "deepnote_cell_type": "text-cell-h3"
   }
  },
  {
   "cell_type": "code",
   "metadata": {
    "tags": [],
    "cell_id": "00024-f90c8c41-8293-462d-ae13-d8888ac531d0",
    "deepnote_to_be_reexecuted": false,
    "source_hash": "407e2456",
    "execution_start": 1641965947666,
    "execution_millis": 3,
    "deepnote_output_heights": [
     21.1875
    ],
    "deepnote_cell_type": "code"
   },
   "source": "len(data[(data['pais'] == 'Canada') | (data['pais'] == 'Germany')])",
   "outputs": [
    {
     "output_type": "execute_result",
     "execution_count": 16,
     "data": {
      "text/plain": "21"
     },
     "metadata": {}
    }
   ],
   "execution_count": 16
  },
  {
   "cell_type": "code",
   "metadata": {
    "tags": [],
    "cell_id": "00025-e833054a-0366-43f1-9ef0-37b55a495ee5",
    "deepnote_to_be_reexecuted": false,
    "source_hash": "38fa5c53",
    "execution_start": 1641965947667,
    "execution_millis": 3,
    "deepnote_output_heights": [
     21.1875
    ],
    "deepnote_app_coordinates": {
     "x": 0,
     "y": 159,
     "w": 19,
     "h": 6
    },
    "deepnote_cell_type": "code"
   },
   "source": "# Solución propia\ndata[data['pais'].isin(['Canada','Germany'])]['pais'].count()",
   "outputs": [
    {
     "output_type": "execute_result",
     "execution_count": 17,
     "data": {
      "text/plain": "21"
     },
     "metadata": {}
    }
   ],
   "execution_count": 17
  },
  {
   "cell_type": "markdown",
   "source": "### Mostrar en consola la cantidad de países en el dataset",
   "metadata": {
    "tags": [],
    "is_collapsed": false,
    "cell_id": "00026-fdcf993c-1fa2-4231-9494-8961ea726676",
    "deepnote_app_coordinates": {
     "x": 0,
     "y": 167,
     "w": 16,
     "h": 2
    },
    "deepnote_cell_type": "text-cell-h3"
   }
  },
  {
   "cell_type": "code",
   "metadata": {
    "tags": [],
    "cell_id": "00027-524f19fc-308a-4247-a06b-706e98d03660",
    "deepnote_to_be_reexecuted": false,
    "source_hash": "bb4ac3d8",
    "execution_start": 1641965947673,
    "execution_millis": 3,
    "deepnote_output_heights": [
     21.1875
    ],
    "deepnote_cell_type": "code"
   },
   "source": "len(data['pais'].unique())",
   "outputs": [
    {
     "output_type": "execute_result",
     "execution_count": 18,
     "data": {
      "text/plain": "17"
     },
     "metadata": {}
    }
   ],
   "execution_count": 18
  },
  {
   "cell_type": "code",
   "metadata": {
    "tags": [],
    "cell_id": "00028-d242df10-2e40-473c-917b-fa30d8f366bf",
    "deepnote_to_be_reexecuted": false,
    "source_hash": "c279c6ba",
    "execution_start": 1641965947722,
    "execution_millis": 5,
    "deepnote_output_heights": [
     21.1875
    ],
    "deepnote_app_coordinates": {
     "x": 0,
     "y": 169,
     "w": 19,
     "h": 6
    },
    "deepnote_cell_type": "code"
   },
   "source": "# Solución propia\ndata.groupby('pais')['pais'].count().size",
   "outputs": [
    {
     "output_type": "execute_result",
     "execution_count": 19,
     "data": {
      "text/plain": "17"
     },
     "metadata": {}
    }
   ],
   "execution_count": 19
  },
  {
   "cell_type": "markdown",
   "source": "### Obtener el promedio de edad de cada uno de los países",
   "metadata": {
    "tags": [],
    "is_collapsed": false,
    "cell_id": "00029-fa8a0c59-b2e4-4886-919c-1b51a8454102",
    "deepnote_app_coordinates": {
     "x": 0,
     "y": 177,
     "w": 14,
     "h": 2
    },
    "deepnote_cell_type": "text-cell-h3"
   }
  },
  {
   "cell_type": "code",
   "metadata": {
    "tags": [],
    "cell_id": "00030-8b039f34-1a8a-40a6-9180-f5329b4622b7",
    "deepnote_to_be_reexecuted": false,
    "source_hash": "b273ce0c",
    "execution_start": 1641965947723,
    "execution_millis": 5,
    "deepnote_output_heights": [
     366.796875
    ],
    "deepnote_cell_type": "code"
   },
   "source": "data.groupby('pais')['edad'].mean()",
   "outputs": [
    {
     "output_type": "execute_result",
     "execution_count": 20,
     "data": {
      "text/plain": "pais\nAustralia         51.166667\nBrazil            50.666667\nCanada            38.583333\nDenmark           48.812500\nFinland           42.200000\nFrance            48.900000\nGermany           39.555556\nIran              54.230769\nIreland           42.000000\nNetherlands       51.833333\nNew Zealand       49.071429\nNorway            46.071429\nSpain             56.615385\nSwitzerland       44.000000\nTurkey            47.000000\nUnited Kingdom    51.466667\nUnited States     53.500000\nName: edad, dtype: float64"
     },
     "metadata": {}
    }
   ],
   "execution_count": 20
  },
  {
   "cell_type": "code",
   "metadata": {
    "tags": [],
    "cell_id": "00031-9cc7c91b-2dab-4e84-80e0-5c44bb29d30e",
    "deepnote_to_be_reexecuted": false,
    "source_hash": "af6d8f2a",
    "execution_start": 1641965947724,
    "execution_millis": 8,
    "deepnote_output_heights": [
     366.796875
    ],
    "deepnote_app_coordinates": {
     "x": 0,
     "y": 179,
     "w": 19,
     "h": 19
    },
    "deepnote_cell_type": "code"
   },
   "source": "# solución propia\ndata.groupby('pais').mean('edad')['edad']",
   "outputs": [
    {
     "output_type": "execute_result",
     "execution_count": 21,
     "data": {
      "text/plain": "pais\nAustralia         51.166667\nBrazil            50.666667\nCanada            38.583333\nDenmark           48.812500\nFinland           42.200000\nFrance            48.900000\nGermany           39.555556\nIran              54.230769\nIreland           42.000000\nNetherlands       51.833333\nNew Zealand       49.071429\nNorway            46.071429\nSpain             56.615385\nSwitzerland       44.000000\nTurkey            47.000000\nUnited Kingdom    51.466667\nUnited States     53.500000\nName: edad, dtype: float64"
     },
     "metadata": {}
    }
   ],
   "execution_count": 21
  },
  {
   "cell_type": "code",
   "metadata": {
    "tags": [],
    "cell_id": "00032-d2f8ecd1-7478-4fa2-92e2-611842935214",
    "deepnote_to_be_reexecuted": false,
    "source_hash": "c7e785d8",
    "execution_start": 1641965947733,
    "execution_millis": 10,
    "deepnote_output_heights": [
     366.796875
    ],
    "deepnote_cell_type": "code"
   },
   "source": "# Otra solución\nround(data.groupby('pais').edad.mean(),1)",
   "outputs": [
    {
     "output_type": "execute_result",
     "execution_count": 22,
     "data": {
      "text/plain": "pais\nAustralia         51.2\nBrazil            50.7\nCanada            38.6\nDenmark           48.8\nFinland           42.2\nFrance            48.9\nGermany           39.6\nIran              54.2\nIreland           42.0\nNetherlands       51.8\nNew Zealand       49.1\nNorway            46.1\nSpain             56.6\nSwitzerland       44.0\nTurkey            47.0\nUnited Kingdom    51.5\nUnited States     53.5\nName: edad, dtype: float64"
     },
     "metadata": {}
    }
   ],
   "execution_count": 22
  },
  {
   "cell_type": "markdown",
   "source": "### Mostrar en consola el país con más hombres",
   "metadata": {
    "tags": [],
    "is_collapsed": false,
    "cell_id": "00033-11189004-298c-437c-b018-5a5a42609c01",
    "deepnote_app_coordinates": {
     "x": 0,
     "y": 201,
     "w": 12,
     "h": 2
    },
    "deepnote_cell_type": "text-cell-h3"
   }
  },
  {
   "cell_type": "code",
   "metadata": {
    "tags": [],
    "cell_id": "00033-ea22827a-0e2e-4481-a245-c15e332cebc3",
    "deepnote_to_be_reexecuted": false,
    "source_hash": "fa18d51f",
    "execution_start": 1641965947790,
    "execution_millis": 2,
    "deepnote_output_heights": [
     59.59375
    ],
    "deepnote_app_coordinates": {
     "x": 0,
     "y": 203,
     "w": 19,
     "h": 7
    },
    "deepnote_cell_type": "code"
   },
   "source": "data[data['genero'] == 'male'].groupby('pais')['pais'].count().sort_values(ascending = False).head(1)",
   "outputs": [
    {
     "output_type": "execute_result",
     "execution_count": 23,
     "data": {
      "text/plain": "pais\nIreland    10\nName: pais, dtype: int64"
     },
     "metadata": {}
    }
   ],
   "execution_count": 23
  },
  {
   "cell_type": "markdown",
   "source": "<a style='text-decoration:none;line-height:16px;display:flex;color:#5B5B62;padding:10px;justify-content:end;' href='https://deepnote.com?utm_source=created-in-deepnote-cell&projectId=295a884b-c7d6-44f3-98d4-34c2c544e53c' target=\"_blank\">\n<img alt='Created in deepnote.com' style='display:inline;max-height:16px;margin:0px;margin-right:7.5px;' src='data:image/svg+xml;base64,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' > </img>\nCreated in <span style='font-weight:600;margin-left:4px;'>Deepnote</span></a>",
   "metadata": {
    "tags": [],
    "created_in_deepnote_cell": true,
    "deepnote_cell_type": "markdown"
   }
  }
 ],
 "nbformat": 4,
 "nbformat_minor": 2,
 "metadata": {
  "orig_nbformat": 2,
  "deepnote": {
   "is_reactive": false
  },
  "deepnote_notebook_id": "3ed75714-064d-403b-a00a-2de046d2ddbf",
  "deepnote_execution_queue": [],
  "deepnote_app_layout": "dashboard"
 }
}